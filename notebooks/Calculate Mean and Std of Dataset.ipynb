{
 "cells": [
  {
   "cell_type": "markdown",
   "metadata": {},
   "source": [
    "### Calculate mean and standard deviation of all the Cholec + Miccai training videos for normalization during training"
   ]
  },
  {
   "cell_type": "code",
   "execution_count": 1,
   "metadata": {},
   "outputs": [],
   "source": [
    "import cv2\n",
    "import numpy as np\n",
    "import os\n",
    "from tqdm import tqdm\n",
    "import sys\n",
    "sys.path.insert(1, '../src/')\n",
    "import utils"
   ]
  },
  {
   "cell_type": "code",
   "execution_count": 2,
   "metadata": {},
   "outputs": [],
   "source": [
    "# Specify the dataset directory\n",
    "data_dir = \"../src/data/datasets/cholec/train/images/\"\n",
    "files = os.listdir(data_dir)"
   ]
  },
  {
   "cell_type": "markdown",
   "metadata": {},
   "source": [
    "### Display Ground Truth Maps"
   ]
  },
  {
   "cell_type": "code",
   "execution_count": 3,
   "metadata": {},
   "outputs": [
    {
     "name": "stderr",
     "output_type": "stream",
     "text": [
      "100%|██████████| 5656/5656 [01:20<00:00, 69.94it/s]\n"
     ]
    }
   ],
   "source": [
    "meanR = 0\n",
    "meanG = 0\n",
    "meanB = 0\n",
    "stdR = 0\n",
    "stdG = 0\n",
    "stdB = 0\n",
    "\n",
    "for i in tqdm(range(len(files))):\n",
    "    file_name = os.path.join(data_dir, files[i])\n",
    "    img = cv2.imread(file_name) / 255\n",
    "    \n",
    "    R = img[:,:,2]\n",
    "    meanR += np.mean(R)\n",
    "    stdR += np.std(R)\n",
    "    G = img[:,:,1]\n",
    "    meanG += np.mean(G)\n",
    "    stdG += np.std(G)\n",
    "    B = img[:,:,0]\n",
    "    meanB += np.mean(B)\n",
    "    stdB += np.std(B)\n",
    "    \n",
    "meanR = meanR / len(files)\n",
    "meanG = meanG / len(files)\n",
    "meanB = meanB / len(files)\n",
    "stdR = stdR / len(files)\n",
    "stdG = stdG / len(files)\n",
    "stdB = stdB / len(files)"
   ]
  },
  {
   "cell_type": "code",
   "execution_count": 4,
   "metadata": {},
   "outputs": [
    {
     "name": "stdout",
     "output_type": "stream",
     "text": [
      "5656\n"
     ]
    }
   ],
   "source": [
    "i += 1\n",
    "print(i)"
   ]
  },
  {
   "cell_type": "code",
   "execution_count": 5,
   "metadata": {},
   "outputs": [
    {
     "data": {
      "text/plain": [
       "5656"
      ]
     },
     "execution_count": 5,
     "metadata": {},
     "output_type": "execute_result"
    }
   ],
   "source": [
    "len(files)"
   ]
  },
  {
   "cell_type": "code",
   "execution_count": 6,
   "metadata": {},
   "outputs": [
    {
     "name": "stdout",
     "output_type": "stream",
     "text": [
      "0.337275041811819 0.21244190752370792 0.1816114774289172\n",
      "0.2775973618580761 0.21840028130381006 0.1849929663675559\n"
     ]
    }
   ],
   "source": [
    "print(meanR, meanG, meanB)\n",
    "print(stdR, stdG, stdB)"
   ]
  }
 ],
 "metadata": {
  "kernelspec": {
   "display_name": "Python 3",
   "language": "python",
   "name": "python3"
  },
  "language_info": {
   "codemirror_mode": {
    "name": "ipython",
    "version": 3
   },
   "file_extension": ".py",
   "mimetype": "text/x-python",
   "name": "python",
   "nbconvert_exporter": "python",
   "pygments_lexer": "ipython3",
   "version": "3.8.8"
  }
 },
 "nbformat": 4,
 "nbformat_minor": 2
}
